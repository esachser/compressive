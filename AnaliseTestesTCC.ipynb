{
 "cells": [
  {
   "cell_type": "code",
   "execution_count": 1,
   "metadata": {},
   "outputs": [],
   "source": [
    "import numpy as np\n",
    "import matplotlib.pyplot as plt"
   ]
  },
  {
   "cell_type": "code",
   "execution_count": 2,
   "metadata": {},
   "outputs": [],
   "source": [
    "%matplotlib qt"
   ]
  },
  {
   "cell_type": "code",
   "execution_count": 4,
   "metadata": {},
   "outputs": [],
   "source": [
    "# Carrega dados de cartoon\n",
    "cartoon_p4d12 = np.loadtxt('tests/bigbuckbunny_p4d12.txt')\n",
    "cartoon_p4d16 = np.loadtxt('tests/bigbuckbunny_p4d16.txt')\n",
    "cartoon_p4d24 = np.loadtxt('tests/bigbuckbunny_p4d24.txt')\n",
    "cartoon_p4d32 = np.loadtxt('tests/bigbuckbunny_p4d32.txt')\n",
    "cartoon_p4d48 = np.loadtxt('tests/bigbuckbunny_p4d48.txt')\n",
    "cartoon_p4d64 = np.loadtxt('tests/bigbuckbunny_p4d64.txt')\n",
    "cartoon_p8d32 = np.loadtxt('tests/bigbuckbunny_p8d32.txt')\n",
    "cartoon_p8d64 = np.loadtxt('tests/bigbuckbunny_p8d64.txt')\n",
    "cartoon_p8d128 = np.loadtxt('tests/bigbuckbunny_p8d128.txt')\n",
    "cartoon_p8d192 = np.loadtxt('tests/bigbuckbunny_p8d192.txt')\n",
    "cartoon_p4 = np.array([cartoon_p4d12, cartoon_p4d16, cartoon_p4d24, cartoon_p4d32, cartoon_p4d48, cartoon_p4d64])\n",
    "cartoon_p8 = np.array([cartoon_p8d32, cartoon_p8d64, cartoon_p8d128, cartoon_p8d192])"
   ]
  },
  {
   "cell_type": "code",
   "execution_count": 5,
   "metadata": {},
   "outputs": [],
   "source": [
    "# Carrega dados de monitoramento\n",
    "monitor_p4d12 = np.loadtxt('tests/stockholm_p4d12.txt')\n",
    "monitor_p4d16 = np.loadtxt('tests/stockholm_p4d16.txt')\n",
    "monitor_p4d24 = np.loadtxt('tests/stockholm_p4d24.txt')\n",
    "monitor_p4d32 = np.loadtxt('tests/stockholm_p4d32.txt')\n",
    "monitor_p4d48 = np.loadtxt('tests/stockholm_p4d48.txt')\n",
    "monitor_p4d64 = np.loadtxt('tests/stockholm_p4d64.txt')\n",
    "monitor_p8d32 = np.loadtxt('tests/stockholm_p8d32.txt')\n",
    "monitor_p8d64 = np.loadtxt('tests/stockholm_p8d64.txt')\n",
    "monitor_p8d128 = np.loadtxt('tests/stockholm_p8d128.txt')\n",
    "monitor_p8d192 = np.loadtxt('tests/stockholm_p8d192.txt')\n",
    "monitor_p4 = np.array([monitor_p4d12, monitor_p4d16, monitor_p4d24, monitor_p4d32, monitor_p4d48, monitor_p4d64])\n",
    "monitor_p8 = np.array([monitor_p8d32, monitor_p8d64, monitor_p8d128, monitor_p8d192])"
   ]
  },
  {
   "cell_type": "code",
   "execution_count": 6,
   "metadata": {},
   "outputs": [],
   "source": [
    "# Carrega dados de esportes\n",
    "sports_p4d12 = np.loadtxt('tests/football_p4d12.txt')\n",
    "sports_p4d16 = np.loadtxt('tests/football_p4d16.txt')\n",
    "sports_p4d24 = np.loadtxt('tests/football_p4d24.txt')\n",
    "sports_p4d32 = np.loadtxt('tests/football_p4d32.txt')\n",
    "sports_p4d48 = np.loadtxt('tests/football_p4d48.txt')\n",
    "sports_p4d64 = np.loadtxt('tests/football_p4d64.txt')\n",
    "sports_p8d32 = np.loadtxt('tests/football_p8d32.txt')\n",
    "sports_p8d64 = np.loadtxt('tests/football_p8d64.txt')\n",
    "sports_p8d128 = np.loadtxt('tests/football_p8d128.txt')\n",
    "sports_p8d192 = np.loadtxt('tests/football_p8d192.txt')\n",
    "sports_p4 = np.array([sports_p4d12, sports_p4d16, sports_p4d24, sports_p4d32, sports_p4d48, sports_p4d64])\n",
    "sports_p8 = np.array([sports_p8d32, sports_p8d64, sports_p8d128, sports_p8d192])"
   ]
  },
  {
   "cell_type": "code",
   "execution_count": 7,
   "metadata": {},
   "outputs": [],
   "source": [
    "# Carrega todos de Indoor\n",
    "indoor_p4d12 = np.loadtxt('tests/johnny_p4d12.txt')\n",
    "indoor_p4d16 = np.loadtxt('tests/johnny_p4d16.txt')\n",
    "indoor_p4d24 = np.loadtxt('tests/johnny_p4d24.txt')\n",
    "indoor_p4d32 = np.loadtxt('tests/johnny_p4d32.txt')\n",
    "indoor_p4d48 = np.loadtxt('tests/johnny_p4d48.txt')\n",
    "indoor_p4d64 = np.loadtxt('tests/johnny_p4d64.txt')\n",
    "indoor_p8d32 = np.loadtxt('tests/johnny_p8d32.txt')\n",
    "indoor_p8d64 = np.loadtxt('tests/johnny_p8d64.txt')\n",
    "indoor_p8d128 = np.loadtxt('tests/johnny_p8d128.txt')\n",
    "indoor_p8d192 = np.loadtxt('tests/johnny_p8d192.txt')\n",
    "indoor_p4 = np.array([indoor_p4d12, indoor_p4d16, indoor_p4d24, indoor_p4d32, indoor_p4d48, indoor_p4d64])\n",
    "indoor_p8 = np.array([indoor_p8d32, indoor_p8d64, indoor_p8d128, indoor_p8d192])"
   ]
  },
  {
   "cell_type": "code",
   "execution_count": 8,
   "metadata": {},
   "outputs": [],
   "source": [
    "# Carrega todos de natureza\n",
    "nature_p4d12 = np.loadtxt('tests/parkjoy_p4d12.txt')\n",
    "nature_p4d16 = np.loadtxt('tests/parkjoy_p4d16.txt')\n",
    "nature_p4d24 = np.loadtxt('tests/parkjoy_p4d24.txt')\n",
    "nature_p4d32 = np.loadtxt('tests/parkjoy_p4d32.txt')\n",
    "nature_p4d48 = np.loadtxt('tests/parkjoy_p4d48.txt')\n",
    "nature_p4d64 = np.loadtxt('tests/parkjoy_p4d64.txt')\n",
    "nature_p8d32 = np.loadtxt('tests/parkjoy_p8d32.txt')\n",
    "nature_p8d64 = np.loadtxt('tests/parkjoy_p8d64.txt')\n",
    "nature_p8d128 = np.loadtxt('tests/parkjoy_p8d128.txt')\n",
    "nature_p8d192 = np.loadtxt('tests/parkjoy_p8d192.txt')\n",
    "nature_p4 = np.array([nature_p4d12, nature_p4d16, nature_p4d24, nature_p4d32, nature_p4d48, nature_p4d64])\n",
    "nature_p8 = np.array([nature_p8d32, nature_p8d64, nature_p8d128, nature_p8d192])"
   ]
  },
  {
   "cell_type": "code",
   "execution_count": 17,
   "metadata": {},
   "outputs": [],
   "source": [
    "# Gráfico Tempo de encoding x tamanho do dicionário, patch_size = 4x4\n",
    "x = [12,16,24,32,48,64]\n",
    "cartoon_y = np.mean(cartoon_p4[:,:,0], axis=1)\n",
    "monitor_y = np.mean(monitor_p4[:,:,0], axis=1)\n",
    "sports_y = np.mean(sports_p4[:,:,0], axis=1)\n",
    "indoor_y = np.mean(indoor_p4[:,:,0], axis=1)\n",
    "nature_y = np.mean(nature_p4[:,:,0], axis=1)\n",
    "\n",
    "plt.plot(x, cartoon_y, '-o')\n",
    "plt.plot(x, monitor_y, '--o')\n",
    "plt.plot(x, sports_y, '-.o')\n",
    "plt.plot(x, indoor_y, ':o')\n",
    "plt.plot(x, nature_y, '--.')\n",
    "plt.legend(['Cartoon', 'Monitoramento', 'Esportes', 'Indoor', 'Natureza'])\n",
    "\n",
    "plt.title('Tempo de encoding x $K$ ($p = 4$)')\n",
    "plt.xlabel('$K$')\n",
    "plt.ylabel('Tempo (ms)')\n",
    "\n",
    "plt.grid()\n",
    "plt.show()"
   ]
  },
  {
   "cell_type": "code",
   "execution_count": 19,
   "metadata": {},
   "outputs": [],
   "source": [
    "# Gráfico Tempo de decoding x tamanho do dicionário, patch_size = 4x4\n",
    "x = [12,16,24,32,48,64]\n",
    "cartoon_y = np.mean(cartoon_p4[:,:,-2], axis=1)\n",
    "monitor_y = np.mean(monitor_p4[:,:,-2], axis=1)\n",
    "sports_y = np.mean(sports_p4[:,:,-2], axis=1)\n",
    "indoor_y = np.mean(indoor_p4[:,:,-2], axis=1)\n",
    "nature_y = np.mean(nature_p4[:,:,-2], axis=1)\n",
    "\n",
    "plt.plot(x, cartoon_y, '-o')\n",
    "plt.plot(x, monitor_y, '--o')\n",
    "plt.plot(x, sports_y, '-.o')\n",
    "plt.plot(x, indoor_y, ':o')\n",
    "plt.plot(x, nature_y, '--.')\n",
    "plt.legend(['Cartoon', 'Monitoramento', 'Esportes', 'Indoor', 'Natureza'])\n",
    "\n",
    "plt.title('Tempo de decoding x $K$ ($p = 4$)')\n",
    "plt.xlabel('$K$')\n",
    "plt.ylabel('Tempo (ms)')\n",
    "\n",
    "plt.grid()\n",
    "plt.show()"
   ]
  },
  {
   "cell_type": "code",
   "execution_count": 23,
   "metadata": {},
   "outputs": [],
   "source": [
    "# Gráfico PSNR x tamanho do dicionário, patch_size = 4x4\n",
    "x = [12,16,24,32,48,64]\n",
    "cartoon_y = np.mean(cartoon_p4[:,:,-1], axis=1)\n",
    "monitor_y = np.mean(monitor_p4[:,:,-1], axis=1)\n",
    "sports_y = np.mean(sports_p4[:,:,-1], axis=1)\n",
    "indoor_y = np.mean(indoor_p4[:,:,-1], axis=1)\n",
    "nature_y = np.mean(nature_p4[:,:,-1], axis=1)\n",
    "\n",
    "plt.plot(x, cartoon_y, '-o')\n",
    "plt.plot(x, monitor_y, '--o')\n",
    "plt.plot(x, sports_y, '-.o')\n",
    "plt.plot(x, indoor_y, ':o')\n",
    "plt.plot(x, nature_y, '--.')\n",
    "plt.legend(['Cartoon', 'Monitoramento', 'Esportes', 'Indoor', 'Natureza'])\n",
    "\n",
    "plt.title('PSNR x $K$ ($p = 4$)')\n",
    "plt.xlabel('$K$')\n",
    "plt.ylabel('PSNR (dB)')\n",
    "\n",
    "plt.grid()\n",
    "plt.show()"
   ]
  },
  {
   "cell_type": "code",
   "execution_count": 21,
   "metadata": {},
   "outputs": [],
   "source": [
    "# Gráfico Tempo de encoding x tamanho do dicionário, patch_size = 8x8\n",
    "x = [32,64,128,192]\n",
    "cartoon_y = np.mean(cartoon_p8[:,:,0], axis=1)\n",
    "monitor_y = np.mean(monitor_p8[:,:,0], axis=1)\n",
    "sports_y = np.mean(sports_p8[:,:,0], axis=1)\n",
    "indoor_y = np.mean(indoor_p8[:,:,0], axis=1)\n",
    "nature_y = np.mean(nature_p8[:,:,0], axis=1)\n",
    "\n",
    "plt.plot(x, cartoon_y, '-o')\n",
    "plt.plot(x, monitor_y, '--o')\n",
    "plt.plot(x, sports_y, '-.o')\n",
    "plt.plot(x, indoor_y, ':o')\n",
    "plt.plot(x, nature_y, '--.')\n",
    "plt.legend(['Cartoon', 'Monitoramento', 'Esportes', 'Indoor', 'Natureza'])\n",
    "\n",
    "plt.title('Tempo de encoding x $K$ ($p = 8$)')\n",
    "plt.xlabel('$K$')\n",
    "plt.ylabel('Tempo (ms)')\n",
    "\n",
    "plt.grid()\n",
    "plt.show()"
   ]
  },
  {
   "cell_type": "code",
   "execution_count": 22,
   "metadata": {},
   "outputs": [],
   "source": [
    "# Gráfico Tempo de decoding x tamanho do dicionário, patch_size = 8x8\n",
    "x = [32,64,128,192]\n",
    "cartoon_y = np.mean(cartoon_p8[:,:,-2], axis=1)\n",
    "monitor_y = np.mean(monitor_p8[:,:,-2], axis=1)\n",
    "sports_y = np.mean(sports_p8[:,:,-2], axis=1)\n",
    "indoor_y = np.mean(indoor_p8[:,:,-2], axis=1)\n",
    "nature_y = np.mean(nature_p8[:,:,-2], axis=1)\n",
    "\n",
    "plt.plot(x, cartoon_y, '-o')\n",
    "plt.plot(x, monitor_y, '--o')\n",
    "plt.plot(x, sports_y, '-.o')\n",
    "plt.plot(x, indoor_y, ':o')\n",
    "plt.plot(x, nature_y, '--.')\n",
    "plt.legend(['Cartoon', 'Monitoramento', 'Esportes', 'Indoor', 'Natureza'])\n",
    "\n",
    "plt.title('Tempo de decoding x $K$ ($p = 8$)')\n",
    "plt.xlabel('$K$')\n",
    "plt.ylabel('Tempo (ms)')\n",
    "\n",
    "plt.grid()\n",
    "plt.show()"
   ]
  },
  {
   "cell_type": "code",
   "execution_count": 27,
   "metadata": {},
   "outputs": [],
   "source": [
    "# Gráfico PSNR x tamanho do dicionário, patch_size = 8x8\n",
    "x = [32,64,128,192]\n",
    "cartoon_y = np.mean(cartoon_p8[:,:,-1], axis=1)\n",
    "monitor_y = np.mean(monitor_p8[:,:,-1], axis=1)\n",
    "sports_y = np.mean(sports_p8[:,:,-1], axis=1)\n",
    "indoor_y = np.mean(indoor_p8[:,:,-1], axis=1)\n",
    "nature_y = np.mean(nature_p8[:,:,-1], axis=1)\n",
    "\n",
    "plt.plot(x, cartoon_y, '-o')\n",
    "plt.plot(x, monitor_y, '--o')\n",
    "plt.plot(x, sports_y, '-.o')\n",
    "plt.plot(x, indoor_y, ':o')\n",
    "plt.plot(x, nature_y, '--.')\n",
    "plt.legend(['Cartoon', 'Monitoramento', 'Esportes', 'Indoor', 'Natureza'])\n",
    "\n",
    "plt.title('PSNR x $K$ ($p = 8$)')\n",
    "plt.xlabel('$K$')\n",
    "plt.ylabel('PSNR (dB)')\n",
    "\n",
    "plt.grid()\n",
    "plt.show()"
   ]
  },
  {
   "cell_type": "code",
   "execution_count": null,
   "metadata": {},
   "outputs": [],
   "source": []
  }
 ],
 "metadata": {
  "kernelspec": {
   "display_name": "Python 3",
   "language": "python",
   "name": "python3"
  },
  "language_info": {
   "codemirror_mode": {
    "name": "ipython",
    "version": 3
   },
   "file_extension": ".py",
   "mimetype": "text/x-python",
   "name": "python",
   "nbconvert_exporter": "python",
   "pygments_lexer": "ipython3",
   "version": "3.6.5"
  }
 },
 "nbformat": 4,
 "nbformat_minor": 2
}
